{
 "cells": [
  {
   "cell_type": "code",
   "execution_count": 15,
   "metadata": {},
   "outputs": [],
   "source": [
    "import re"
   ]
  },
  {
   "cell_type": "code",
   "execution_count": 16,
   "metadata": {},
   "outputs": [],
   "source": [
    "cpf = input(\"Informe o CPF para validação: \")"
   ]
  },
  {
   "cell_type": "code",
   "execution_count": 17,
   "metadata": {},
   "outputs": [
    {
     "data": {
      "text/plain": [
       "'827877865'"
      ]
     },
     "execution_count": 17,
     "metadata": {},
     "output_type": "execute_result"
    }
   ],
   "source": [
    "cpf = re.sub(\n",
    "    r'[^0-9]',\n",
    "    '',\n",
    "    str(cpf)\n",
    ")\n",
    "#cpf= cpf_clear[::-1]\n",
    "cpf_clear = cpf[:9]\n",
    "cpf_clear \n",
    "#cpf= cpf_clear[::-1]\n",
    "cpf_clear = cpf[:9]\n",
    "cpf_clear "
   ]
  },
  {
   "cell_type": "code",
   "execution_count": 18,
   "metadata": {},
   "outputs": [
    {
     "data": {
      "text/plain": [
       "[80, 18, 56, 56, 42, 35, 32, 18, 10]"
      ]
     },
     "execution_count": 18,
     "metadata": {},
     "output_type": "execute_result"
    }
   ],
   "source": [
    "c = 10\n",
    "n = []\n",
    "for i in cpf_clear :\n",
    "    n.append(int(i) * c)\n",
    "    c = c -1\n",
    "n"
   ]
  },
  {
   "cell_type": "code",
   "execution_count": 19,
   "metadata": {},
   "outputs": [
    {
     "name": "stdout",
     "output_type": "stream",
     "text": [
      "5\n"
     ]
    }
   ],
   "source": [
    "digito_1 = (sum(n) * 10) % 11\n",
    "digito_1 = digito_1 if digito_1 <=9 else 0\n",
    "print(digito_1)"
   ]
  },
  {
   "cell_type": "code",
   "execution_count": 20,
   "metadata": {},
   "outputs": [
    {
     "data": {
      "text/plain": [
       "'8278778655'"
      ]
     },
     "execution_count": 20,
     "metadata": {},
     "output_type": "execute_result"
    }
   ],
   "source": [
    "cpf_clear_2 = cpf_clear + str(digito_1)\n",
    "cpf_clear_2"
   ]
  },
  {
   "cell_type": "code",
   "execution_count": 21,
   "metadata": {},
   "outputs": [
    {
     "data": {
      "text/plain": [
       "[88, 20, 63, 64, 49, 42, 40, 24, 15, 10]"
      ]
     },
     "execution_count": 21,
     "metadata": {},
     "output_type": "execute_result"
    }
   ],
   "source": [
    "c = 11\n",
    "n = []\n",
    "for i in cpf_clear_2 :\n",
    "    n.append(int(i) * c)\n",
    "    c = c -1\n",
    "n"
   ]
  },
  {
   "cell_type": "code",
   "execution_count": 22,
   "metadata": {},
   "outputs": [
    {
     "name": "stdout",
     "output_type": "stream",
     "text": [
      "3\n"
     ]
    }
   ],
   "source": [
    "digito_2 = (sum(n) * 10) % 11\n",
    "digito_2 = digito_2 if digito_2 <=9 else 0\n",
    "print(digito_2)"
   ]
  },
  {
   "cell_type": "code",
   "execution_count": 23,
   "metadata": {},
   "outputs": [],
   "source": [
    "teste_cpf = cpf_clear + str(digito_1) + str(digito_2)"
   ]
  },
  {
   "cell_type": "code",
   "execution_count": 24,
   "metadata": {},
   "outputs": [
    {
     "name": "stdout",
     "output_type": "stream",
     "text": [
      "O CPF informado, 827.877.865-53, é válido!\n"
     ]
    }
   ],
   "source": [
    "if cpf == teste_cpf:\n",
    "    print(f\"O CPF informado, {cpf[:3]}.{cpf[3:6]}.{cpf[6:9]}-{str(digito_1)}{str(digito_2)}, é válido!\")\n",
    "else:\n",
    "    print(\"CPF inválido!\")"
   ]
  }
 ],
 "metadata": {
  "kernelspec": {
   "display_name": "Python 3",
   "language": "python",
   "name": "python3"
  },
  "language_info": {
   "codemirror_mode": {
    "name": "ipython",
    "version": 3
   },
   "file_extension": ".py",
   "mimetype": "text/x-python",
   "name": "python",
   "nbconvert_exporter": "python",
   "pygments_lexer": "ipython3",
   "version": "3.11.2"
  },
  "orig_nbformat": 4,
  "vscode": {
   "interpreter": {
    "hash": "e7370f93d1d0cde622a1f8e1c04877d8463912d04d973331ad4851f04de6915a"
   }
  }
 },
 "nbformat": 4,
 "nbformat_minor": 2
}
